{
 "cells": [
  {
   "cell_type": "code",
   "execution_count": 1,
   "id": "0fcae593-8b26-486b-97a8-9deffd1f8f8c",
   "metadata": {},
   "outputs": [],
   "source": [
    "import os\n",
    "import time\n",
    "from datetime import datetime\n",
    "from pathlib import Path\n",
    "\n",
    "import akshare as ak\n",
    "import matplotlib.pyplot as plt\n",
    "import pandas as pd\n",
    "\n",
    "%matplotlib inline"
   ]
  },
  {
   "cell_type": "code",
   "execution_count": 2,
   "id": "be016602-5cf0-409f-8d96-36fd50f19750",
   "metadata": {},
   "outputs": [],
   "source": [
    "fund_code = '510300'\n",
    "init_invest = 70000\n",
    "cash = 30000\n",
    "buy_point, sell_point = 0.2, 0.8"
   ]
  },
  {
   "cell_type": "code",
   "execution_count": 3,
   "id": "10ed7e67-dfeb-47b1-b12a-4ef1de265456",
   "metadata": {},
   "outputs": [],
   "source": [
    "def is_gt_24hours(early_dt, later_dt):\n",
    "    return (later_dt - early_dt).days >= 1"
   ]
  },
  {
   "cell_type": "code",
   "execution_count": 4,
   "id": "4288d2b6-bc75-44e8-8ea2-6265ea715699",
   "metadata": {},
   "outputs": [],
   "source": [
    "def cache_fund_to_csv(fund_code, filename):\n",
    "    open_fund_df = ak.fund_open_fund_info_em(fund=fund_code, indicator=\"单位净值走势\")\n",
    "    open_fund_df.to_csv(filename, index_label='index')"
   ]
  },
  {
   "cell_type": "code",
   "execution_count": 5,
   "id": "4332242e-e8f9-4e9f-a237-5b5f36b64bb5",
   "metadata": {},
   "outputs": [],
   "source": [
    "def recent_10_years(df):\n",
    "    return df.tail(10 * 12)"
   ]
  },
  {
   "cell_type": "code",
   "execution_count": 6,
   "id": "42b3e0bb-0ccf-4eda-be42-12bdee25463f",
   "metadata": {},
   "outputs": [],
   "source": [
    "fund_cache_file = f'../test-cached/open_fund/{fund_code}.csv'\n",
    "\n",
    "if not Path(fund_cache_file).exists():\n",
    "    cache_fund_to_csv(fund_code, fund_cache_file)\n",
    "\n",
    "fund_dt = datetime.fromtimestamp(os.stat(fund_cache_file).st_mtime)"
   ]
  },
  {
   "cell_type": "code",
   "execution_count": 7,
   "id": "97d3bd4c-cac3-4879-9c37-9693d73c3128",
   "metadata": {},
   "outputs": [],
   "source": [
    "if is_gt_24hours(fund_dt, datetime.now()):\n",
    "    cache_fund_to_csv(fund_code, fund_cache_file)"
   ]
  },
  {
   "cell_type": "code",
   "execution_count": 8,
   "id": "7569ffa2-8e49-42c6-a46f-6fcfe06992e9",
   "metadata": {},
   "outputs": [],
   "source": [
    "fund_df = pd.read_csv(fund_cache_file, parse_dates=['净值日期'], index_col=['净值日期'])\n",
    "fund_df.drop(columns=['index', '日增长率'], inplace=True)\n",
    "by_month_df = fund_df.resample(\"MS\").first()\n",
    "# by_month_df"
   ]
  },
  {
   "cell_type": "code",
   "execution_count": 9,
   "id": "d6d07b67-0815-4dd7-88d7-6a3ce84e0328",
   "metadata": {},
   "outputs": [
    {
     "name": "stderr",
     "output_type": "stream",
     "text": [
      "/var/folders/sn/qsm415tn5157jpntkj3qhhgr0000gn/T/ipykernel_10367/991492369.py:6: SettingWithCopyWarning: \n",
      "A value is trying to be set on a copy of a slice from a DataFrame.\n",
      "Try using .loc[row_indexer,col_indexer] = value instead\n",
      "\n",
      "See the caveats in the documentation: https://pandas.pydata.org/pandas-docs/stable/user_guide/indexing.html#returning-a-view-versus-a-copy\n",
      "  recent_10_years_df['持有份额'] = first_shares\n",
      "/var/folders/sn/qsm415tn5157jpntkj3qhhgr0000gn/T/ipykernel_10367/991492369.py:7: SettingWithCopyWarning: \n",
      "A value is trying to be set on a copy of a slice from a DataFrame.\n",
      "Try using .loc[row_indexer,col_indexer] = value instead\n",
      "\n",
      "See the caveats in the documentation: https://pandas.pydata.org/pandas-docs/stable/user_guide/indexing.html#returning-a-view-versus-a-copy\n",
      "  recent_10_years_df['总资产'] = round(\n"
     ]
    }
   ],
   "source": [
    "recent_10_years_df = recent_10_years(by_month_df)\n",
    "recent_10_years_df.reset_index(inplace=True)\n",
    "\n",
    "first_shares = round(init_invest / recent_10_years_df.iloc[0]['单位净值'], 4)\n",
    "\n",
    "recent_10_years_df['持有份额'] = first_shares\n",
    "recent_10_years_df['总资产'] = round(\n",
    "    recent_10_years_df['单位净值'] * recent_10_years_df['持有份额'] + cash, 2\n",
    ")\n",
    "\n",
    "# recent_10_years_df"
   ]
  },
  {
   "cell_type": "code",
   "execution_count": 10,
   "id": "edd110cf-2206-467c-9bb5-f15c0b7077dd",
   "metadata": {},
   "outputs": [
    {
     "name": "stderr",
     "output_type": "stream",
     "text": [
      "/var/folders/sn/qsm415tn5157jpntkj3qhhgr0000gn/T/ipykernel_10367/2557013430.py:1: SettingWithCopyWarning: \n",
      "A value is trying to be set on a copy of a slice from a DataFrame.\n",
      "Try using .loc[row_indexer,col_indexer] = value instead\n",
      "\n",
      "See the caveats in the documentation: https://pandas.pydata.org/pandas-docs/stable/user_guide/indexing.html#returning-a-view-versus-a-copy\n",
      "  recent_10_years_df['最近一年增长'] = recent_10_years_df['单位净值'].pct_change(periods=12)\n",
      "/var/folders/sn/qsm415tn5157jpntkj3qhhgr0000gn/T/ipykernel_10367/2557013430.py:4: SettingWithCopyWarning: \n",
      "A value is trying to be set on a copy of a slice from a DataFrame\n",
      "\n",
      "See the caveats in the documentation: https://pandas.pydata.org/pandas-docs/stable/user_guide/indexing.html#returning-a-view-versus-a-copy\n",
      "  recent_10_years_df['最近一年增长'].iloc[0] = 0\n",
      "/var/folders/sn/qsm415tn5157jpntkj3qhhgr0000gn/T/ipykernel_10367/2557013430.py:6: SettingWithCopyWarning: \n",
      "A value is trying to be set on a copy of a slice from a DataFrame\n",
      "\n",
      "See the caveats in the documentation: https://pandas.pydata.org/pandas-docs/stable/user_guide/indexing.html#returning-a-view-versus-a-copy\n",
      "  recent_10_years_df['最近一年增长'].iloc[i + 1] = (\n"
     ]
    },
    {
     "data": {
      "text/html": [
       "<div>\n",
       "<style scoped>\n",
       "    .dataframe tbody tr th:only-of-type {\n",
       "        vertical-align: middle;\n",
       "    }\n",
       "\n",
       "    .dataframe tbody tr th {\n",
       "        vertical-align: top;\n",
       "    }\n",
       "\n",
       "    .dataframe thead th {\n",
       "        text-align: right;\n",
       "    }\n",
       "</style>\n",
       "<table border=\"1\" class=\"dataframe\">\n",
       "  <thead>\n",
       "    <tr style=\"text-align: right;\">\n",
       "      <th></th>\n",
       "      <th>净值日期</th>\n",
       "      <th>单位净值</th>\n",
       "      <th>持有份额</th>\n",
       "      <th>总资产</th>\n",
       "      <th>最近一年增长</th>\n",
       "    </tr>\n",
       "  </thead>\n",
       "  <tbody>\n",
       "    <tr>\n",
       "      <th>0</th>\n",
       "      <td>2012-09-01</td>\n",
       "      <td>2.2650</td>\n",
       "      <td>30905.0773</td>\n",
       "      <td>100000.00</td>\n",
       "      <td>0.000000</td>\n",
       "    </tr>\n",
       "    <tr>\n",
       "      <th>1</th>\n",
       "      <td>2012-10-01</td>\n",
       "      <td>2.3060</td>\n",
       "      <td>30905.0773</td>\n",
       "      <td>101267.11</td>\n",
       "      <td>0.012671</td>\n",
       "    </tr>\n",
       "    <tr>\n",
       "      <th>2</th>\n",
       "      <td>2012-11-01</td>\n",
       "      <td>2.3340</td>\n",
       "      <td>30905.0773</td>\n",
       "      <td>102132.45</td>\n",
       "      <td>0.021324</td>\n",
       "    </tr>\n",
       "    <tr>\n",
       "      <th>3</th>\n",
       "      <td>2012-12-01</td>\n",
       "      <td>2.1420</td>\n",
       "      <td>30905.0773</td>\n",
       "      <td>96198.68</td>\n",
       "      <td>-0.038013</td>\n",
       "    </tr>\n",
       "    <tr>\n",
       "      <th>4</th>\n",
       "      <td>2013-01-01</td>\n",
       "      <td>2.5270</td>\n",
       "      <td>30905.0773</td>\n",
       "      <td>108097.13</td>\n",
       "      <td>0.080971</td>\n",
       "    </tr>\n",
       "    <tr>\n",
       "      <th>...</th>\n",
       "      <td>...</td>\n",
       "      <td>...</td>\n",
       "      <td>...</td>\n",
       "      <td>...</td>\n",
       "      <td>...</td>\n",
       "    </tr>\n",
       "    <tr>\n",
       "      <th>115</th>\n",
       "      <td>2022-04-01</td>\n",
       "      <td>4.2728</td>\n",
       "      <td>30905.0773</td>\n",
       "      <td>162051.21</td>\n",
       "      <td>-0.164114</td>\n",
       "    </tr>\n",
       "    <tr>\n",
       "      <th>116</th>\n",
       "      <td>2022-05-01</td>\n",
       "      <td>4.0087</td>\n",
       "      <td>30905.0773</td>\n",
       "      <td>153889.18</td>\n",
       "      <td>-0.209002</td>\n",
       "    </tr>\n",
       "    <tr>\n",
       "      <th>117</th>\n",
       "      <td>2022-06-01</td>\n",
       "      <td>4.0891</td>\n",
       "      <td>30905.0773</td>\n",
       "      <td>156373.95</td>\n",
       "      <td>-0.235982</td>\n",
       "    </tr>\n",
       "    <tr>\n",
       "      <th>118</th>\n",
       "      <td>2022-07-01</td>\n",
       "      <td>4.4975</td>\n",
       "      <td>30905.0773</td>\n",
       "      <td>168995.59</td>\n",
       "      <td>-0.146503</td>\n",
       "    </tr>\n",
       "    <tr>\n",
       "      <th>119</th>\n",
       "      <td>2022-08-01</td>\n",
       "      <td>4.2464</td>\n",
       "      <td>30905.0773</td>\n",
       "      <td>161235.32</td>\n",
       "      <td>-0.150992</td>\n",
       "    </tr>\n",
       "  </tbody>\n",
       "</table>\n",
       "<p>120 rows × 5 columns</p>\n",
       "</div>"
      ],
      "text/plain": [
       "          净值日期    单位净值        持有份额        总资产    最近一年增长\n",
       "0   2012-09-01  2.2650  30905.0773  100000.00  0.000000\n",
       "1   2012-10-01  2.3060  30905.0773  101267.11  0.012671\n",
       "2   2012-11-01  2.3340  30905.0773  102132.45  0.021324\n",
       "3   2012-12-01  2.1420  30905.0773   96198.68 -0.038013\n",
       "4   2013-01-01  2.5270  30905.0773  108097.13  0.080971\n",
       "..         ...     ...         ...        ...       ...\n",
       "115 2022-04-01  4.2728  30905.0773  162051.21 -0.164114\n",
       "116 2022-05-01  4.0087  30905.0773  153889.18 -0.209002\n",
       "117 2022-06-01  4.0891  30905.0773  156373.95 -0.235982\n",
       "118 2022-07-01  4.4975  30905.0773  168995.59 -0.146503\n",
       "119 2022-08-01  4.2464  30905.0773  161235.32 -0.150992\n",
       "\n",
       "[120 rows x 5 columns]"
      ]
     },
     "execution_count": 10,
     "metadata": {},
     "output_type": "execute_result"
    }
   ],
   "source": [
    "recent_10_years_df['最近一年增长'] = recent_10_years_df['单位净值'].pct_change(periods=12)\n",
    "\n",
    "# 处理第一年的数据\n",
    "recent_10_years_df['最近一年增长'].iloc[0] = 0\n",
    "for i in range(12):\n",
    "    recent_10_years_df['最近一年增长'].iloc[i + 1] = (\n",
    "        recent_10_years_df['总资产'].iloc[i + 1] / recent_10_years_df['总资产'].iloc[0]\n",
    "    ) - 1\n",
    "\n",
    "recent_10_years_df.to_csv(\n",
    "    f'../test-cached/open_fund/{fund_code}_滚动收益.csv', index_label='index'\n",
    ")\n",
    "recent_10_years_df"
   ]
  },
  {
   "cell_type": "code",
   "execution_count": 11,
   "id": "292ebf8a-8489-4bc9-97b5-916a81814260",
   "metadata": {},
   "outputs": [
    {
     "data": {
      "text/plain": [
       "0.2   -0.123994\n",
       "0.5    0.067611\n",
       "0.8    0.235196\n",
       "Name: 最近一年增长, dtype: float64"
      ]
     },
     "execution_count": 11,
     "metadata": {},
     "output_type": "execute_result"
    }
   ],
   "source": [
    "quantiles = recent_10_years_df['最近一年增长'].quantile([buy_point, 0.5, sell_point])\n",
    "quantiles"
   ]
  }
 ],
 "metadata": {
  "kernelspec": {
   "display_name": "y-stocks",
   "language": "python",
   "name": "y-stocks"
  },
  "language_info": {
   "codemirror_mode": {
    "name": "ipython",
    "version": 3
   },
   "file_extension": ".py",
   "mimetype": "text/x-python",
   "name": "python",
   "nbconvert_exporter": "python",
   "pygments_lexer": "ipython3",
   "version": "3.9.13"
  }
 },
 "nbformat": 4,
 "nbformat_minor": 5
}
