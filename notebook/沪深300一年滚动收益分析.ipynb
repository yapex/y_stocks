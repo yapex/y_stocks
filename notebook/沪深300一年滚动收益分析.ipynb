{
 "cells": [
  {
   "cell_type": "code",
   "execution_count": 1,
   "id": "e2aeb89a-f097-43fb-ab27-63c32557ef3a",
   "metadata": {},
   "outputs": [],
   "source": [
    "import os\n",
    "import time\n",
    "from datetime import datetime\n",
    "from pathlib import Path\n",
    "\n",
    "import akshare as ak\n",
    "import matplotlib.pyplot as plt\n",
    "import numpy as np\n",
    "import pandas as pd\n",
    "import snoop\n",
    "from pylab import legend\n",
    "from snoop import pp\n",
    "\n",
    "from ystocks.functools import pickled_lru_cache, disk_cache\n",
    "\n",
    "%matplotlib inline\n"
   ]
  },
  {
   "cell_type": "code",
   "execution_count": 2,
   "id": "28c3a86b-abbe-4237-8e18-d2e0ef92afec",
   "metadata": {},
   "outputs": [],
   "source": [
    "fund_code = '510300'\n",
    "init_cash = init_shares = cash = 100000\n",
    "(\n",
    "    f_buy_point,\n",
    "    ss_buy_point,\n",
    "    s_buy_point,\n",
    "    buy_point,\n",
    "    sell_point,\n",
    "    s_sell_point,\n",
    "    ss_sell_point,\n",
    "    f_sell_point,\n",
    ") = (0.005, 0.05, 0.15, 0.25, 0.7, 0.8, 0.9, 0.995)\n",
    "fund_cache_file = f'../data/open_fund/{fund_code}.csv'\n"
   ]
  },
  {
   "cell_type": "code",
   "execution_count": 3,
   "id": "989374e0-55a0-4e98-9215-47a0f20ae0ca",
   "metadata": {},
   "outputs": [],
   "source": [
    "def recent_10_years(df):\n",
    "    r_10_df = df.tail(10 * 12)\n",
    "    # result_df = r_11_df.iloc[1:] #去除第一行异常数据\n",
    "    return r_10_df.reset_index()\n",
    "\n",
    "@disk_cache(cache_dir='../test-cached/')\n",
    "def get_fund_as_df(fund_code) -> pd.DataFrame:\n",
    "    return ak.fund_open_fund_info_em(\n",
    "        fund=fund_code, indicator=\"单位净值走势\")\n",
    "\n",
    "\n",
    "def pre_process(df):\n",
    "    df.drop(columns=['日增长率'], inplace=True)\n",
    "    df['净值日期'] = pd.to_datetime(df['净值日期'], format='%Y-%m-%d')\n",
    "    df.set_index(['净值日期'], drop=True, inplace=True)\n",
    "    return df.resample(\"MS\").first()\n",
    "\n",
    "\n",
    "def ten_years_pct_change(df):\n",
    "    recent_one_year_s = df['单位净值'].pct_change(periods=12)\n",
    "\n",
    "    result_df = df.copy()\n",
    "    result_df['近一年增长'] = recent_one_year_s\n",
    "\n",
    "    # 处理前12行没有数据的问题\n",
    "    result_df.loc[0, '近一年增长'] = 0\n",
    "    for i in range(12):\n",
    "        result_df.loc[i + 1,\n",
    "                      '近一年增长'] = (df.loc[i + 1, '单位净值'] / df.loc[0, '单位净值']) - 1\n",
    "    return result_df\n",
    "\n",
    "\n",
    "def recacl_account(df):\n",
    "    total_value = df['份额变化'] * df['单位净值']\n",
    "\n",
    "\n",
    "def op_to_position(row, total_value, exp_position=0.7):\n",
    "    global cash\n",
    "\n",
    "    curr_position = 1 - cash / total_value\n",
    "\n",
    "    exp_cash = total_value * (1 - exp_position)\n",
    "    cash_to_op = cash - exp_cash\n",
    "    if abs(cash_to_op / total_value) <= 0.01:  # 操作资金不足总资金量的0.5%\n",
    "        # print(f\"不足总资金的1%，无操作\\n\")\n",
    "        return row\n",
    "\n",
    "    op_row = row.copy()\n",
    "    op_row['交易变化'] = cash_to_op\n",
    "    op_row['份额变化'] = op_row['交易变化'] / op_row['单位净值']\n",
    "    cash = exp_cash\n",
    "    op_row['现金余额'] = cash\n",
    "    # print(\n",
    "    #     f\"当前仓位: {curr_position}, 期望仓位: {exp_position}\\n交易金额: {op_row['交易变化']}, 份额变化: {op_row['份额变化']}, 现金余额: {cash}, 总资产: {total_value}\\n\"\n",
    "    # )\n",
    "    return op_row\n"
   ]
  },
  {
   "cell_type": "code",
   "execution_count": 16,
   "id": "d2a1992c-5404-450e-8a2b-638b8862637e",
   "metadata": {},
   "outputs": [
    {
     "name": "stderr",
     "output_type": "stream",
     "text": [
      "2022-08-12 16:52:48.016 | DEBUG    | ystocks.functools:_wrapper:78 - [cd63be5832d82da63965ae61487239a4] hitted in cache\n"
     ]
    },
    {
     "data": {
      "text/html": [
       "<div>\n",
       "<style scoped>\n",
       "    .dataframe tbody tr th:only-of-type {\n",
       "        vertical-align: middle;\n",
       "    }\n",
       "\n",
       "    .dataframe tbody tr th {\n",
       "        vertical-align: top;\n",
       "    }\n",
       "\n",
       "    .dataframe thead th {\n",
       "        text-align: right;\n",
       "    }\n",
       "</style>\n",
       "<table border=\"1\" class=\"dataframe\">\n",
       "  <thead>\n",
       "    <tr style=\"text-align: right;\">\n",
       "      <th></th>\n",
       "      <th>净值日期</th>\n",
       "      <th>单位净值</th>\n",
       "      <th>日增长率</th>\n",
       "    </tr>\n",
       "  </thead>\n",
       "  <tbody>\n",
       "    <tr>\n",
       "      <th>0</th>\n",
       "      <td>2012-05-04</td>\n",
       "      <td>1.0070</td>\n",
       "      <td>0.0000</td>\n",
       "    </tr>\n",
       "    <tr>\n",
       "      <th>1</th>\n",
       "      <td>2012-05-11</td>\n",
       "      <td>2.6370</td>\n",
       "      <td>-2.8606</td>\n",
       "    </tr>\n",
       "    <tr>\n",
       "      <th>2</th>\n",
       "      <td>2012-05-18</td>\n",
       "      <td>2.5740</td>\n",
       "      <td>-2.3891</td>\n",
       "    </tr>\n",
       "    <tr>\n",
       "      <th>3</th>\n",
       "      <td>2012-05-21</td>\n",
       "      <td>2.5880</td>\n",
       "      <td>0.5439</td>\n",
       "    </tr>\n",
       "    <tr>\n",
       "      <th>4</th>\n",
       "      <td>2012-05-25</td>\n",
       "      <td>2.5740</td>\n",
       "      <td>-0.5410</td>\n",
       "    </tr>\n",
       "    <tr>\n",
       "      <th>...</th>\n",
       "      <td>...</td>\n",
       "      <td>...</td>\n",
       "      <td>...</td>\n",
       "    </tr>\n",
       "    <tr>\n",
       "      <th>2493</th>\n",
       "      <td>2022-08-05</td>\n",
       "      <td>4.2178</td>\n",
       "      <td>1.4300</td>\n",
       "    </tr>\n",
       "    <tr>\n",
       "      <th>2494</th>\n",
       "      <td>2022-08-08</td>\n",
       "      <td>4.2091</td>\n",
       "      <td>-0.2100</td>\n",
       "    </tr>\n",
       "    <tr>\n",
       "      <th>2495</th>\n",
       "      <td>2022-08-09</td>\n",
       "      <td>4.2171</td>\n",
       "      <td>0.1900</td>\n",
       "    </tr>\n",
       "    <tr>\n",
       "      <th>2496</th>\n",
       "      <td>2022-08-10</td>\n",
       "      <td>4.1700</td>\n",
       "      <td>-1.1200</td>\n",
       "    </tr>\n",
       "    <tr>\n",
       "      <th>2497</th>\n",
       "      <td>2022-08-11</td>\n",
       "      <td>4.2551</td>\n",
       "      <td>2.0400</td>\n",
       "    </tr>\n",
       "  </tbody>\n",
       "</table>\n",
       "<p>2498 rows × 3 columns</p>\n",
       "</div>"
      ],
      "text/plain": [
       "            净值日期    单位净值    日增长率\n",
       "0     2012-05-04  1.0070  0.0000\n",
       "1     2012-05-11  2.6370 -2.8606\n",
       "2     2012-05-18  2.5740 -2.3891\n",
       "3     2012-05-21  2.5880  0.5439\n",
       "4     2012-05-25  2.5740 -0.5410\n",
       "...          ...     ...     ...\n",
       "2493  2022-08-05  4.2178  1.4300\n",
       "2494  2022-08-08  4.2091 -0.2100\n",
       "2495  2022-08-09  4.2171  0.1900\n",
       "2496  2022-08-10  4.1700 -1.1200\n",
       "2497  2022-08-11  4.2551  2.0400\n",
       "\n",
       "[2498 rows x 3 columns]"
      ]
     },
     "execution_count": 16,
     "metadata": {},
     "output_type": "execute_result"
    }
   ],
   "source": [
    "fund_df = get_fund_as_df(fund_code)\n",
    "fund_df"
   ]
  },
  {
   "cell_type": "code",
   "execution_count": 5,
   "id": "69d86406",
   "metadata": {},
   "outputs": [
    {
     "data": {
      "text/html": [
       "<div>\n",
       "<style scoped>\n",
       "    .dataframe tbody tr th:only-of-type {\n",
       "        vertical-align: middle;\n",
       "    }\n",
       "\n",
       "    .dataframe tbody tr th {\n",
       "        vertical-align: top;\n",
       "    }\n",
       "\n",
       "    .dataframe thead th {\n",
       "        text-align: right;\n",
       "    }\n",
       "</style>\n",
       "<table border=\"1\" class=\"dataframe\">\n",
       "  <thead>\n",
       "    <tr style=\"text-align: right;\">\n",
       "      <th></th>\n",
       "      <th>净值日期</th>\n",
       "      <th>单位净值</th>\n",
       "      <th>近一年增长</th>\n",
       "    </tr>\n",
       "  </thead>\n",
       "  <tbody>\n",
       "    <tr>\n",
       "      <th>0</th>\n",
       "      <td>2012-09-01</td>\n",
       "      <td>2.2650</td>\n",
       "      <td>0.000000</td>\n",
       "    </tr>\n",
       "    <tr>\n",
       "      <th>1</th>\n",
       "      <td>2012-10-01</td>\n",
       "      <td>2.3060</td>\n",
       "      <td>0.018102</td>\n",
       "    </tr>\n",
       "    <tr>\n",
       "      <th>2</th>\n",
       "      <td>2012-11-01</td>\n",
       "      <td>2.3340</td>\n",
       "      <td>0.030464</td>\n",
       "    </tr>\n",
       "    <tr>\n",
       "      <th>3</th>\n",
       "      <td>2012-12-01</td>\n",
       "      <td>2.1420</td>\n",
       "      <td>-0.054305</td>\n",
       "    </tr>\n",
       "    <tr>\n",
       "      <th>4</th>\n",
       "      <td>2013-01-01</td>\n",
       "      <td>2.5270</td>\n",
       "      <td>0.115673</td>\n",
       "    </tr>\n",
       "    <tr>\n",
       "      <th>...</th>\n",
       "      <td>...</td>\n",
       "      <td>...</td>\n",
       "      <td>...</td>\n",
       "    </tr>\n",
       "    <tr>\n",
       "      <th>115</th>\n",
       "      <td>2022-04-01</td>\n",
       "      <td>4.2728</td>\n",
       "      <td>-0.164114</td>\n",
       "    </tr>\n",
       "    <tr>\n",
       "      <th>116</th>\n",
       "      <td>2022-05-01</td>\n",
       "      <td>4.0087</td>\n",
       "      <td>-0.209002</td>\n",
       "    </tr>\n",
       "    <tr>\n",
       "      <th>117</th>\n",
       "      <td>2022-06-01</td>\n",
       "      <td>4.0891</td>\n",
       "      <td>-0.235982</td>\n",
       "    </tr>\n",
       "    <tr>\n",
       "      <th>118</th>\n",
       "      <td>2022-07-01</td>\n",
       "      <td>4.4975</td>\n",
       "      <td>-0.146503</td>\n",
       "    </tr>\n",
       "    <tr>\n",
       "      <th>119</th>\n",
       "      <td>2022-08-01</td>\n",
       "      <td>4.2464</td>\n",
       "      <td>-0.150992</td>\n",
       "    </tr>\n",
       "  </tbody>\n",
       "</table>\n",
       "<p>120 rows × 3 columns</p>\n",
       "</div>"
      ],
      "text/plain": [
       "          净值日期    单位净值     近一年增长\n",
       "0   2012-09-01  2.2650  0.000000\n",
       "1   2012-10-01  2.3060  0.018102\n",
       "2   2012-11-01  2.3340  0.030464\n",
       "3   2012-12-01  2.1420 -0.054305\n",
       "4   2013-01-01  2.5270  0.115673\n",
       "..         ...     ...       ...\n",
       "115 2022-04-01  4.2728 -0.164114\n",
       "116 2022-05-01  4.0087 -0.209002\n",
       "117 2022-06-01  4.0891 -0.235982\n",
       "118 2022-07-01  4.4975 -0.146503\n",
       "119 2022-08-01  4.2464 -0.150992\n",
       "\n",
       "[120 rows x 3 columns]"
      ]
     },
     "execution_count": 5,
     "metadata": {},
     "output_type": "execute_result"
    }
   ],
   "source": [
    "\n",
    "by_month_df = pre_process(fund_df)\n",
    "\n",
    "recent_10_years_df = recent_10_years(by_month_df)\n",
    "recent_10_years_df = ten_years_pct_change(recent_10_years_df)\n",
    "recent_10_years_df\n"
   ]
  },
  {
   "cell_type": "markdown",
   "id": "871abecd-accd-4b22-8cfe-7f062a0c4ed8",
   "metadata": {},
   "source": [
    "## 交易初始化"
   ]
  },
  {
   "cell_type": "code",
   "execution_count": 6,
   "id": "bc91a204-6fb5-4c33-8edd-94e8441588a8",
   "metadata": {},
   "outputs": [],
   "source": [
    "recent_10_years_df['交易变化'] = np.nan\n",
    "recent_10_years_df['份额变化'] = np.nan\n",
    "recent_10_years_df['现金余额'] = np.nan\n",
    "recent_10_years_df['总资产'] = np.nan\n",
    "recent_10_years_df['总份额'] = np.nan\n",
    "recent_10_years_df['滚动净值'] = np.nan\n",
    "\n",
    "first_row = op_to_position(recent_10_years_df.loc[0], cash, 1)\n",
    "first_row['总资产'] = first_row['交易变化']\n",
    "first_row['总份额'] = round(first_row['总资产'] / first_row['单位净值'], 4)\n",
    "first_row['滚动净值'] = round(first_row['总资产'] / init_shares, 4)\n",
    "recent_10_years_df.loc[0] = first_row\n"
   ]
  },
  {
   "cell_type": "code",
   "execution_count": 7,
   "id": "ac2eb6c4-8ab6-40a2-bb57-8fa08c65ae77",
   "metadata": {},
   "outputs": [
    {
     "data": {
      "text/plain": [
       "0.005   -0.346175\n",
       "0.050   -0.216751\n",
       "0.150   -0.148197\n",
       "0.250   -0.062668\n",
       "0.700    0.165904\n",
       "0.800    0.235196\n",
       "0.900    0.371467\n",
       "0.995    1.270356\n",
       "Name: 近一年增长, dtype: float64"
      ]
     },
     "execution_count": 7,
     "metadata": {},
     "output_type": "execute_result"
    }
   ],
   "source": [
    "quantiles = recent_10_years_df['近一年增长'].quantile(\n",
    "    [\n",
    "        f_buy_point,\n",
    "        ss_buy_point,\n",
    "        s_buy_point,\n",
    "        buy_point,\n",
    "        sell_point,\n",
    "        s_sell_point,\n",
    "        ss_sell_point,\n",
    "        f_sell_point,\n",
    "    ]\n",
    ")\n",
    "quantiles\n"
   ]
  },
  {
   "cell_type": "code",
   "execution_count": 8,
   "id": "0d57853d-fad6-4918-94ff-4bdb74fd77cc",
   "metadata": {},
   "outputs": [
    {
     "name": "stdout",
     "output_type": "stream",
     "text": [
      "买入机会: 30 次\n",
      "卖出机会: 36 次\n"
     ]
    }
   ],
   "source": [
    "buy_point_df = recent_10_years_df.loc[\n",
    "    recent_10_years_df['近一年增长'] <= quantiles[buy_point]\n",
    "]\n",
    "print(f'买入机会: {len(buy_point_df)} 次')\n",
    "sell_point_df = recent_10_years_df.loc[\n",
    "    recent_10_years_df['近一年增长'] >= quantiles[sell_point]\n",
    "]\n",
    "print(f'卖出机会: {len(sell_point_df)} 次')\n",
    "\n",
    "# buy_point_df\n"
   ]
  },
  {
   "cell_type": "code",
   "execution_count": 9,
   "id": "74583298-310f-47b5-bcee-3a556808959d",
   "metadata": {},
   "outputs": [],
   "source": [
    "for i, row in recent_10_years_df.iterrows():\n",
    "    curr_shares = recent_10_years_df.iloc[:i]['份额变化'].sum()\n",
    "    curr_value = curr_shares * row['单位净值'] + cash\n",
    "    row['总资产'] = curr_value\n",
    "    row['总份额'] = curr_shares\n",
    "    row['滚动净值'] = round(curr_value / init_shares, 4)\n",
    "\n",
    "    # 全仓买入机会\n",
    "    if row['近一年增长'] <= quantiles[f_buy_point]:\n",
    "        recent_10_years_df.loc[i] = op_to_position(\n",
    "            row, curr_value, 1 - f_buy_point)\n",
    "    # 超超极买入机会\n",
    "    if quantiles[f_buy_point] < row['近一年增长'] <= quantiles[ss_buy_point]:\n",
    "        recent_10_years_df.loc[i] = op_to_position(\n",
    "            row, curr_value, 1 - ss_buy_point)\n",
    "    # 超级买入机会\n",
    "    if quantiles[ss_buy_point] < row['近一年增长'] <= quantiles[s_buy_point]:\n",
    "        recent_10_years_df.loc[i] = op_to_position(\n",
    "            row, curr_value, 1 - s_buy_point)\n",
    "    # 普通买入机会\n",
    "    if quantiles[s_buy_point] < row['近一年增长'] <= quantiles[buy_point]:\n",
    "        recent_10_years_df.loc[i] = op_to_position(\n",
    "            row, curr_value, 1 - buy_point)\n",
    "\n",
    "    # 普通卖出机会\n",
    "    if quantiles[sell_point] <= row['近一年增长'] < quantiles[s_sell_point]:\n",
    "        recent_10_years_df.loc[i] = op_to_position(\n",
    "            row, curr_value, 1 - sell_point)\n",
    "    # 超级卖出机会\n",
    "    if quantiles[s_sell_point] <= row['近一年增长'] < quantiles[ss_sell_point]:\n",
    "        recent_10_years_df.loc[i] = op_to_position(\n",
    "            row, curr_value, 1 - s_sell_point)\n",
    "    # 超超级卖出机会\n",
    "    if quantiles[ss_sell_point] <= row['近一年增长'] < quantiles[f_sell_point]:\n",
    "        recent_10_years_df.iloc[i] = op_to_position(\n",
    "            row, curr_value, 1 - ss_sell_point)\n",
    "    # 全仓卖出机会\n",
    "    if quantiles[f_sell_point] <= row['近一年增长']:\n",
    "        recent_10_years_df.loc[i] = op_to_position(\n",
    "            row, curr_value, 1 - f_sell_point)\n",
    "\n",
    "\n",
    "recent_10_years_df.to_csv(\n",
    "    f'../test-cached/open_fund/{fund_code}_滚动收益.csv', index_label='index'\n",
    ")\n"
   ]
  },
  {
   "cell_type": "markdown",
   "id": "b327f202-373d-4448-b8ae-530749973ce2",
   "metadata": {},
   "source": [
    "## 总资产"
   ]
  },
  {
   "cell_type": "code",
   "execution_count": 10,
   "id": "6b1e62be-af06-4bbb-9d1e-e6a05f79c18a",
   "metadata": {},
   "outputs": [
    {
     "data": {
      "text/plain": [
       "{'总份额': 46586.44168052216,\n",
       " '资产价值': 197824.67,\n",
       " '现金余额': 40149.83,\n",
       " '总资产': 267665.51,\n",
       " '年化收益': '10.35%'}"
      ]
     },
     "execution_count": 10,
     "metadata": {},
     "output_type": "execute_result"
    }
   ],
   "source": [
    "account = {}\n",
    "last_row = recent_10_years_df.dropna().tail(1).reset_index()\n",
    "account['总份额'] = last_row['总份额'][0]\n",
    "account['资产价值'] = round(last_row['总份额'][0] * last_row['单位净值'][0], 2)\n",
    "account['现金余额'] = round(cash, 2)\n",
    "account['总资产'] = round(last_row['总资产'][0], 2)\n",
    "account['年化收益'] = '{:.2%}'.format(\n",
    "    pow(account['总资产'] / init_cash, 1 / 10) - 1, 4)\n",
    "account\n"
   ]
  },
  {
   "cell_type": "markdown",
   "id": "95220d92-9cc6-4790-8722-63d97f0d2e95",
   "metadata": {},
   "source": [
    "## 对比满仓不做操作"
   ]
  },
  {
   "cell_type": "code",
   "execution_count": 11,
   "id": "3c66e8b4-7bed-45c1-ad29-7a9725bc9349",
   "metadata": {},
   "outputs": [
    {
     "data": {
      "text/plain": [
       "{'份额': 44150.1104,\n",
       " '资产价值': 187863.13,\n",
       " '现金余额': 0,\n",
       " '总资产': 187863.13,\n",
       " '年化收益': '6.51%'}"
      ]
     },
     "execution_count": 11,
     "metadata": {},
     "output_type": "execute_result"
    }
   ],
   "source": [
    "no_op_account = {}\n",
    "no_op_account['份额'] = round(\n",
    "    init_cash / recent_10_years_df.head(1)['单位净值'][0], 4)\n",
    "no_op_account['资产价值'] = round(fund_df.tail(\n",
    "    1)['单位净值'][0] * no_op_account['份额'], 2)\n",
    "no_op_account['现金余额'] = 0\n",
    "no_op_account['总资产'] = round(no_op_account['资产价值'] + no_op_account['现金余额'], 2)\n",
    "no_op_account['年化收益'] = '{:.2%}'.format(\n",
    "    pow(no_op_account['总资产'] / init_cash, 1 / 10) - 1, 4\n",
    ")\n",
    "no_op_account\n"
   ]
  },
  {
   "cell_type": "markdown",
   "id": "90061533-f539-4451-b427-bca21126a7e9",
   "metadata": {},
   "source": [
    "## 买入操作"
   ]
  },
  {
   "cell_type": "code",
   "execution_count": 12,
   "id": "a4a7d34a-2447-454c-a053-e85ae2e31c1a",
   "metadata": {},
   "outputs": [],
   "source": [
    "buy_op_df = recent_10_years_df.loc[recent_10_years_df['交易变化'] > 0]\n",
    "sell_op_df = recent_10_years_df.loc[recent_10_years_df['交易变化'] < 0]\n"
   ]
  },
  {
   "cell_type": "markdown",
   "id": "50e9c140-a7f3-4166-af0b-a723eedddb05",
   "metadata": {},
   "source": [
    "## 可视化"
   ]
  },
  {
   "cell_type": "code",
   "execution_count": 13,
   "id": "dad021f7-6fc9-4b9a-ae73-6b939ed54222",
   "metadata": {},
   "outputs": [
    {
     "name": "stdout",
     "output_type": "stream",
     "text": [
      "交易次数: 67\n"
     ]
    }
   ],
   "source": [
    "for_plt = recent_10_years_df.dropna(subset=['总资产'])\n",
    "# for_plt.tail()\n",
    "start_date = for_plt['净值日期'][0]\n",
    "fund_for_plt = fund_df.reset_index()\n",
    "fund_for_plt = fund_for_plt.loc[fund_for_plt['净值日期'] >= start_date]\n",
    "print(f'交易次数: {len(for_plt)}')\n"
   ]
  },
  {
   "cell_type": "code",
   "execution_count": 14,
   "id": "30ee3e9c-7292-4f3c-b356-56d5ecb95811",
   "metadata": {},
   "outputs": [
    {
     "data": {
      "text/plain": [
       "<matplotlib.legend.Legend at 0x132c260a0>"
      ]
     },
     "execution_count": 14,
     "metadata": {},
     "output_type": "execute_result"
    },
    {
     "data": {
      "image/png": "[encoded data removed]",
      "text/plain": [
       "<Figure size 864x648 with 1 Axes>"
      ]
     },
     "metadata": {
      "needs_background": "light"
     },
     "output_type": "display_data"
    }
   ],
   "source": [
    "plt.rcParams[\"font.family\"] = 'Arial Unicode MS'  # 设置字体，正常显示中文\n",
    "plt.rcParams['axes.unicode_minus'] = False  # 设置字体，正常显示中文\n",
    "plt.figure(figsize=(12, 9))\n",
    "\n",
    "plt.plot(\n",
    "    fund_for_plt['净值日期'],\n",
    "    fund_for_plt['单位净值'] / for_plt.loc[0, '单位净值'],\n",
    "    label='沪深300',\n",
    ")\n",
    "plt.plot(\n",
    "    for_plt['净值日期'],\n",
    "    for_plt['总资产'] / init_shares,\n",
    "    label='滚动收益',\n",
    ")\n",
    "\n",
    "\n",
    "plt.scatter(\n",
    "    buy_op_df['净值日期'],\n",
    "    buy_op_df['单位净值'] / for_plt.loc[0, '单位净值'],\n",
    "    c='r',\n",
    "    s=50,\n",
    "    marker='^',\n",
    "    label='买入',\n",
    ")\n",
    "plt.scatter(\n",
    "    sell_op_df['净值日期'],\n",
    "    sell_op_df['单位净值'] / for_plt.loc[0, '单位净值'],\n",
    "    c='g',\n",
    "    s=50,\n",
    "    marker='v',\n",
    "    label='卖出',\n",
    ")\n",
    "\n",
    "plt.axis('tight')\n",
    "legend(loc='upper left')\n"
   ]
  }
 ],
 "metadata": {
  "kernelspec": {
   "display_name": "Python 3.9.13 64-bit",
   "language": "python",
   "name": "python3"
  },
  "language_info": {
   "codemirror_mode": {
    "name": "ipython",
    "version": 3
   },
   "file_extension": ".py",
   "mimetype": "text/x-python",
   "name": "python",
   "nbconvert_exporter": "python",
   "pygments_lexer": "ipython3",
   "version": "3.9.13"
  },
  "vscode": {
   "interpreter": {
    "hash": "340bff643a815df54484398904a061bcaa2d6e4bcc1c89c8bbfe8f06a1ea7121"
   }
  }
 },
 "nbformat": 4,
 "nbformat_minor": 5
}
