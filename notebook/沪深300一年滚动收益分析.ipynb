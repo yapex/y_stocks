{
 "cells": [
  {
   "cell_type": "code",
   "execution_count": 1,
   "id": "e2aeb89a-f097-43fb-ab27-63c32557ef3a",
   "metadata": {},
   "outputs": [],
   "source": [
    "import os\n",
    "import time\n",
    "from datetime import datetime\n",
    "from pathlib import Path\n",
    "\n",
    "import akshare as ak\n",
    "import matplotlib.pyplot as plt\n",
    "import numpy as np\n",
    "import pandas as pd\n",
    "import snoop\n",
    "from pylab import legend\n",
    "from snoop import pp\n",
    "\n",
    "%matplotlib inline"
   ]
  },
  {
   "cell_type": "code",
   "execution_count": 2,
   "id": "28c3a86b-abbe-4237-8e18-d2e0ef92afec",
   "metadata": {},
   "outputs": [],
   "source": [
    "fund_code = '510300'\n",
    "init_cash = init_shares = cash = 100000\n",
    "(\n",
    "    f_buy_point,\n",
    "    ss_buy_point,\n",
    "    s_buy_point,\n",
    "    buy_point,\n",
    "    sell_point,\n",
    "    s_sell_point,\n",
    "    ss_sell_point,\n",
    "    f_sell_point,\n",
    ") = (0.005, 0.05, 0.15, 0.25, 0.7, 0.8, 0.9, 0.995)\n",
    "fund_cache_file = f'../test-cached/open_fund/{fund_code}.csv'"
   ]
  },
  {
   "cell_type": "code",
   "execution_count": 3,
   "id": "989374e0-55a0-4e98-9215-47a0f20ae0ca",
   "metadata": {},
   "outputs": [],
   "source": [
    "# @snoop\n",
    "def is_gt_24hours(early_dt, later_dt):\n",
    "    return (later_dt - early_dt).days >= 1\n",
    "\n",
    "\n",
    "def cache_fund_to_csv(fund_code, filename):\n",
    "    open_fund_df = ak.fund_open_fund_info_em(fund=fund_code, indicator=\"单位净值走势\")\n",
    "    open_fund_df.to_csv(filename, index_label='index')\n",
    "\n",
    "\n",
    "def recent_10_years(df):\n",
    "    r_10_df = df.tail(10 * 12)\n",
    "    # result_df = r_11_df.iloc[1:] #去除第一行异常数据\n",
    "    return r_10_df.reset_index()\n",
    "\n",
    "\n",
    "def get_cached_fund_df(fund_code, cached_file):\n",
    "    if not Path(cached_file).exists():\n",
    "        cache_fund_to_csv(fund_code, cached_file)\n",
    "\n",
    "    cached_file_dt = datetime.fromtimestamp(os.stat(cached_file).st_mtime)\n",
    "\n",
    "    if is_gt_24hours(cached_file_dt, datetime.now()):\n",
    "        cache_fund_to_csv(fund_code, cached_file)\n",
    "\n",
    "    return pd.read_csv(cached_file, parse_dates=['净值日期'], index_col=['净值日期'])\n",
    "\n",
    "\n",
    "def pre_process(df):\n",
    "    df.drop(columns=['index', '日增长率'], inplace=True)\n",
    "    return df.resample(\"MS\").first()\n",
    "\n",
    "\n",
    "def ten_years_pct_change(df):\n",
    "    recent_one_year_s = df['单位净值'].pct_change(periods=12)\n",
    "\n",
    "    result_df = df.copy()\n",
    "    result_df['近一年增长'] = recent_one_year_s\n",
    "\n",
    "    # 处理前12行没有数据的问题\n",
    "    result_df.loc[0, '近一年增长'] = 0\n",
    "    for i in range(12):\n",
    "        result_df.loc[i + 1, '近一年增长'] = (df.loc[i + 1, '单位净值'] / df.loc[0, '单位净值']) - 1\n",
    "    return result_df\n",
    "\n",
    "\n",
    "def recacl_account(df):\n",
    "    total_value = df['份额变化'] * df['单位净值']\n",
    "\n",
    "\n",
    "# @snoop\n",
    "def op_to_position(row, total_value, exp_position=0.7):\n",
    "    global cash\n",
    "\n",
    "    curr_position = 1 - cash / total_value\n",
    "\n",
    "    exp_cash = total_value * (1 - exp_position)\n",
    "    cash_to_op = cash - exp_cash\n",
    "    if abs(cash_to_op / total_value) <= 0.01:  # 操作资金不足总资金量的0.5%\n",
    "        # print(f\"不足总资金的1%，无操作\\n\")\n",
    "        return row\n",
    "\n",
    "    op_row = row.copy()\n",
    "    op_row['交易变化'] = cash_to_op\n",
    "    op_row['份额变化'] = op_row['交易变化'] / op_row['单位净值']\n",
    "    cash = exp_cash\n",
    "    op_row['现金余额'] = cash\n",
    "    # print(\n",
    "    #     f\"当前仓位: {curr_position}, 期望仓位: {exp_position}\\n交易金额: {op_row['交易变化']}, 份额变化: {op_row['份额变化']}, 现金余额: {cash}, 总资产: {total_value}\\n\"\n",
    "    # )\n",
    "    return op_row"
   ]
  },
  {
   "cell_type": "code",
   "execution_count": 4,
   "id": "d2a1992c-5404-450e-8a2b-638b8862637e",
   "metadata": {},
   "outputs": [],
   "source": [
    "fund_df = get_cached_fund_df(fund_code, fund_cache_file)\n",
    "\n",
    "by_month_df = pre_process(fund_df)\n",
    "\n",
    "recent_10_years_df = recent_10_years(by_month_df)\n",
    "recent_10_years_df = ten_years_pct_change(recent_10_years_df)\n",
    "# recent_10_years_df"
   ]
  },
  {
   "cell_type": "markdown",
   "id": "871abecd-accd-4b22-8cfe-7f062a0c4ed8",
   "metadata": {},
   "source": [
    "## 交易初始化"
   ]
  },
  {
   "cell_type": "code",
   "execution_count": 5,
   "id": "bc91a204-6fb5-4c33-8edd-94e8441588a8",
   "metadata": {},
   "outputs": [],
   "source": [
    "recent_10_years_df['交易变化'] = np.nan\n",
    "recent_10_years_df['份额变化'] = np.nan\n",
    "recent_10_years_df['现金余额'] = np.nan\n",
    "recent_10_years_df['总资产'] = np.nan\n",
    "recent_10_years_df['总份额'] = np.nan\n",
    "recent_10_years_df['滚动净值'] = np.nan\n",
    "\n",
    "first_row = op_to_position(recent_10_years_df.loc[0], cash, 1)\n",
    "first_row['总资产'] = first_row['交易变化']\n",
    "first_row['总份额'] = round(first_row['总资产'] / first_row['单位净值'], 4)\n",
    "first_row['滚动净值'] = round(first_row['总资产'] / init_shares, 4)\n",
    "recent_10_years_df.loc[0] = first_row"
   ]
  },
  {
   "cell_type": "code",
   "execution_count": 6,
   "id": "ac2eb6c4-8ab6-40a2-bb57-8fa08c65ae77",
   "metadata": {},
   "outputs": [
    {
     "data": {
      "text/plain": [
       "0.005   -0.346175\n",
       "0.050   -0.216751\n",
       "0.150   -0.148197\n",
       "0.250   -0.062668\n",
       "0.700    0.165904\n",
       "0.800    0.235196\n",
       "0.900    0.371467\n",
       "0.995    1.270356\n",
       "Name: 近一年增长, dtype: float64"
      ]
     },
     "execution_count": 6,
     "metadata": {},
     "output_type": "execute_result"
    }
   ],
   "source": [
    "quantiles = recent_10_years_df['近一年增长'].quantile(\n",
    "    [\n",
    "        f_buy_point,\n",
    "        ss_buy_point,\n",
    "        s_buy_point,\n",
    "        buy_point,\n",
    "        sell_point,\n",
    "        s_sell_point,\n",
    "        ss_sell_point,\n",
    "        f_sell_point,\n",
    "    ]\n",
    ")\n",
    "quantiles"
   ]
  },
  {
   "cell_type": "code",
   "execution_count": 7,
   "id": "0d57853d-fad6-4918-94ff-4bdb74fd77cc",
   "metadata": {},
   "outputs": [
    {
     "name": "stdout",
     "output_type": "stream",
     "text": [
      "买入机会: 30 次\n",
      "卖出机会: 36 次\n"
     ]
    }
   ],
   "source": [
    "buy_point_df = recent_10_years_df.loc[\n",
    "    recent_10_years_df['近一年增长'] <= quantiles[buy_point]\n",
    "]\n",
    "print(f'买入机会: {len(buy_point_df)} 次')\n",
    "sell_point_df = recent_10_years_df.loc[\n",
    "    recent_10_years_df['近一年增长'] >= quantiles[sell_point]\n",
    "]\n",
    "print(f'卖出机会: {len(sell_point_df)} 次')\n",
    "\n",
    "# buy_point_df"
   ]
  },
  {
   "cell_type": "code",
   "execution_count": 8,
   "id": "74583298-310f-47b5-bcee-3a556808959d",
   "metadata": {},
   "outputs": [],
   "source": [
    "for i, row in recent_10_years_df.iterrows():\n",
    "    curr_shares = recent_10_years_df.iloc[:i]['份额变化'].sum()\n",
    "    curr_value = curr_shares * row['单位净值'] + cash\n",
    "    row['总资产'] = curr_value\n",
    "    row['总份额'] = curr_shares\n",
    "    row['滚动净值'] = round(curr_value / init_shares, 4)\n",
    "\n",
    "    # 全仓买入机会\n",
    "    if row['近一年增长'] <= quantiles[f_buy_point]:\n",
    "        recent_10_years_df.loc[i] = op_to_position(row, curr_value, 1 - f_buy_point)\n",
    "    # 超超极买入机会\n",
    "    if quantiles[f_buy_point] < row['近一年增长'] <= quantiles[ss_buy_point]:\n",
    "        recent_10_years_df.loc[i] = op_to_position(row, curr_value, 1 - ss_buy_point)\n",
    "    # 超级买入机会\n",
    "    if quantiles[ss_buy_point] < row['近一年增长'] <= quantiles[s_buy_point]:\n",
    "        recent_10_years_df.loc[i] = op_to_position(row, curr_value, 1 - s_buy_point)\n",
    "    # 普通买入机会\n",
    "    if quantiles[s_buy_point] < row['近一年增长'] <= quantiles[buy_point]:\n",
    "        recent_10_years_df.loc[i] = op_to_position(row, curr_value, 1 - buy_point)\n",
    "\n",
    "    # 普通卖出机会\n",
    "    if quantiles[sell_point] <= row['近一年增长'] < quantiles[s_sell_point]:\n",
    "        recent_10_years_df.loc[i] = op_to_position(row, curr_value, 1 - sell_point)\n",
    "    # 超级卖出机会\n",
    "    if quantiles[s_sell_point] <= row['近一年增长'] < quantiles[ss_sell_point]:\n",
    "        recent_10_years_df.loc[i] = op_to_position(row, curr_value, 1 - s_sell_point)\n",
    "    # 超超级卖出机会\n",
    "    if quantiles[ss_sell_point] <= row['近一年增长'] < quantiles[f_sell_point]:\n",
    "        recent_10_years_df.iloc[i] = op_to_position(row, curr_value, 1 - ss_sell_point)\n",
    "    # 全仓卖出机会\n",
    "    if quantiles[f_sell_point] <= row['近一年增长']:\n",
    "        recent_10_years_df.loc[i] = op_to_position(row, curr_value, 1 - f_sell_point)\n",
    "\n",
    "\n",
    "recent_10_years_df.to_csv(\n",
    "    f'../test-cached/open_fund/{fund_code}_滚动收益.csv', index_label='index'\n",
    ")"
   ]
  },
  {
   "cell_type": "markdown",
   "id": "b327f202-373d-4448-b8ae-530749973ce2",
   "metadata": {},
   "source": [
    "## 总资产"
   ]
  },
  {
   "cell_type": "code",
   "execution_count": 9,
   "id": "6b1e62be-af06-4bbb-9d1e-e6a05f79c18a",
   "metadata": {},
   "outputs": [
    {
     "data": {
      "text/plain": [
       "{'总份额': 46586.44168052216,\n",
       " '资产价值': 197824.67,\n",
       " '现金余额': 40149.83,\n",
       " '总资产': 267665.51,\n",
       " '年化收益': '10.35%'}"
      ]
     },
     "execution_count": 9,
     "metadata": {},
     "output_type": "execute_result"
    }
   ],
   "source": [
    "account = {}\n",
    "last_row = recent_10_years_df.dropna().tail(1).reset_index()\n",
    "account['总份额'] = last_row['总份额'][0]\n",
    "account['资产价值'] = round(last_row['总份额'][0] * last_row['单位净值'][0], 2)\n",
    "account['现金余额'] = round(cash, 2)\n",
    "account['总资产'] = round(last_row['总资产'][0], 2)\n",
    "account['年化收益'] = '{:.2%}'.format(pow(account['总资产'] / init_cash, 1 / 10) - 1, 4)\n",
    "account"
   ]
  },
  {
   "cell_type": "markdown",
   "id": "95220d92-9cc6-4790-8722-63d97f0d2e95",
   "metadata": {},
   "source": [
    "## 对比满仓不做操作"
   ]
  },
  {
   "cell_type": "code",
   "execution_count": 10,
   "id": "3c66e8b4-7bed-45c1-ad29-7a9725bc9349",
   "metadata": {},
   "outputs": [
    {
     "data": {
      "text/plain": [
       "{'份额': 44150.1104,\n",
       " '资产价值': 186216.34,\n",
       " '现金余额': 0,\n",
       " '总资产': 186216.34,\n",
       " '年化收益': '6.41%'}"
      ]
     },
     "execution_count": 10,
     "metadata": {},
     "output_type": "execute_result"
    }
   ],
   "source": [
    "no_op_account = {}\n",
    "no_op_account['份额'] = round(init_cash / recent_10_years_df.head(1)['单位净值'][0], 4)\n",
    "no_op_account['资产价值'] = round(fund_df.tail(1)['单位净值'][0] * no_op_account['份额'], 2)\n",
    "no_op_account['现金余额'] = 0\n",
    "no_op_account['总资产'] = round(no_op_account['资产价值'] + no_op_account['现金余额'], 2)\n",
    "no_op_account['年化收益'] = '{:.2%}'.format(\n",
    "    pow(no_op_account['总资产'] / init_cash, 1 / 10) - 1, 4\n",
    ")\n",
    "no_op_account"
   ]
  },
  {
   "cell_type": "markdown",
   "id": "90061533-f539-4451-b427-bca21126a7e9",
   "metadata": {},
   "source": [
    "## 买入操作"
   ]
  },
  {
   "cell_type": "code",
   "execution_count": 11,
   "id": "a4a7d34a-2447-454c-a053-e85ae2e31c1a",
   "metadata": {},
   "outputs": [],
   "source": [
    "buy_op_df = recent_10_years_df.loc[recent_10_years_df['交易变化'] > 0]\n",
    "sell_op_df = recent_10_years_df.loc[recent_10_years_df['交易变化'] < 0]"
   ]
  },
  {
   "cell_type": "markdown",
   "id": "50e9c140-a7f3-4166-af0b-a723eedddb05",
   "metadata": {},
   "source": [
    "## 可视化"
   ]
  },
  {
   "cell_type": "code",
   "execution_count": 12,
   "id": "dad021f7-6fc9-4b9a-ae73-6b939ed54222",
   "metadata": {},
   "outputs": [
    {
     "name": "stdout",
     "output_type": "stream",
     "text": [
      "交易次数: 67\n"
     ]
    }
   ],
   "source": [
    "for_plt = recent_10_years_df.dropna(subset=['总资产'])\n",
    "# for_plt.tail()\n",
    "start_date = for_plt['净值日期'][0]\n",
    "fund_for_plt = fund_df.reset_index()\n",
    "fund_for_plt = fund_for_plt.loc[fund_for_plt['净值日期'] >= start_date]\n",
    "print(f'交易次数: {len(for_plt)}')"
   ]
  },
  {
   "cell_type": "code",
   "execution_count": 13,
   "id": "30ee3e9c-7292-4f3c-b356-56d5ecb95811",
   "metadata": {},
   "outputs": [
    {
     "data": {
      "text/plain": [
       "<matplotlib.legend.Legend at 0x13a7309d0>"
      ]
     },
     "execution_count": 13,
     "metadata": {},
     "output_type": "execute_result"
    },
    {
     "data": {
      "image/png": "[encoded data removed]",
      "text/plain": [
       "<Figure size 864x648 with 1 Axes>"
      ]
     },
     "metadata": {
      "needs_background": "light"
     },
     "output_type": "display_data"
    }
   ],
   "source": [
    "plt.rcParams[\"font.family\"] = 'Arial Unicode MS'  # 设置字体，正常显示中文\n",
    "plt.rcParams['axes.unicode_minus'] = False  # 设置字体，正常显示中文\n",
    "plt.figure(figsize=(12, 9))\n",
    "\n",
    "plt.plot(\n",
    "    fund_for_plt['净值日期'],\n",
    "    fund_for_plt['单位净值'] / for_plt.loc[0, '单位净值'],\n",
    "    label='沪深300',\n",
    ")\n",
    "plt.plot(\n",
    "    for_plt['净值日期'],\n",
    "    for_plt['总资产'] / init_shares,\n",
    "    label='滚动收益',\n",
    ")\n",
    "\n",
    "\n",
    "plt.scatter(\n",
    "    buy_op_df['净值日期'],\n",
    "    buy_op_df['单位净值'] / for_plt.loc[0, '单位净值'],\n",
    "    c='r',\n",
    "    s=50,\n",
    "    marker='^',\n",
    "    label='买入',\n",
    ")\n",
    "plt.scatter(\n",
    "    sell_op_df['净值日期'],\n",
    "    sell_op_df['单位净值'] / for_plt.loc[0, '单位净值'],\n",
    "    c='g',\n",
    "    s=50,\n",
    "    marker='v',\n",
    "    label='卖出',\n",
    ")\n",
    "\n",
    "plt.axis('tight')\n",
    "legend(loc='upper left')"
   ]
  }
 ],
 "metadata": {
  "kernelspec": {
   "display_name": "Python 3 (ipykernel)",
   "language": "python",
   "name": "python3"
  },
  "language_info": {
   "codemirror_mode": {
    "name": "ipython",
    "version": 3
   },
   "file_extension": ".py",
   "mimetype": "text/x-python",
   "name": "python",
   "nbconvert_exporter": "python",
   "pygments_lexer": "ipython3",
   "version": "3.9.13"
  }
 },
 "nbformat": 4,
 "nbformat_minor": 5
}
