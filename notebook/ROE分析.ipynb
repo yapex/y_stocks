{
 "cells": [
  {
   "cell_type": "code",
   "execution_count": 2,
   "id": "d49ddab4-3d27-4baf-a387-47c991ddcda6",
   "metadata": {},
   "outputs": [],
   "source": [
    "from y_stocks.stocks import RoeAnalyzer\n",
    "import pandas as pd\n",
    "import matplotlib.pyplot as plt\n",
    "from y_stocks.settings import *\n",
    "%matplotlib inline\n",
    "%config InlineBackend.figure_format = 'svg'\n",
    "%config InlineBackend.figure_format = 'retina'"
   ]
  },
  {
   "cell_type": "code",
   "execution_count": 3,
   "id": "4d180737-bba5-4b41-b8b7-de6e376faca8",
   "metadata": {},
   "outputs": [],
   "source": [
    "roe_a = RoeAnalyzer('600519')\n",
    "df = roe_a._preprocess()\n",
    "# df"
   ]
  },
  {
   "cell_type": "code",
   "execution_count": 4,
   "id": "f8593cb4-ae45-4985-9552-b23ed23c71c3",
   "metadata": {},
   "outputs": [],
   "source": [
    "_roe_by_sum = df[C_NET_PROFIT].sum() / df[C_EQUITY].sum()\n",
    "# _roe_by_sum"
   ]
  },
  {
   "cell_type": "code",
   "execution_count": 5,
   "id": "7f1656a1-1048-4c81-96e7-30a679dab3ef",
   "metadata": {},
   "outputs": [],
   "source": [
    "a_df = roe_a.analyzing()\n",
    "# pd.to_datetime(a_df[REPORT_DATE_NAME],format='%Y%m%d').dt.year"
   ]
  },
  {
   "cell_type": "code",
   "execution_count": 6,
   "id": "d0ad7c16-659a-47a7-ba6f-24dd230eece9",
   "metadata": {},
   "outputs": [],
   "source": [
    "v_df = roe_a.voting()\n",
    "# v_df.to_frame()"
   ]
  },
  {
   "cell_type": "code",
   "execution_count": 7,
   "id": "4ae917ee-cb28-48da-90a6-3d8ef230fce6",
   "metadata": {},
   "outputs": [],
   "source": [
    "# roe_a.plt_show()"
   ]
  },
  {
   "cell_type": "code",
   "execution_count": 8,
   "id": "ac58e138-1ff7-415a-92f1-b5c935c88e29",
   "metadata": {},
   "outputs": [
    {
     "data": {
      "text/html": [
       "<div>\n",
       "<style scoped>\n",
       "    .dataframe tbody tr th:only-of-type {\n",
       "        vertical-align: middle;\n",
       "    }\n",
       "\n",
       "    .dataframe tbody tr th {\n",
       "        vertical-align: top;\n",
       "    }\n",
       "\n",
       "    .dataframe thead th {\n",
       "        text-align: right;\n",
       "    }\n",
       "</style>\n",
       "<table border=\"1\" class=\"dataframe\">\n",
       "  <thead>\n",
       "    <tr style=\"text-align: right;\">\n",
       "      <th></th>\n",
       "      <th>603589</th>\n",
       "      <th>600519</th>\n",
       "      <th>000858</th>\n",
       "      <th>002304</th>\n",
       "      <th>600809</th>\n",
       "      <th>000568</th>\n",
       "      <th>000596</th>\n",
       "      <th>603369</th>\n",
       "      <th>600779</th>\n",
       "      <th>000799</th>\n",
       "    </tr>\n",
       "  </thead>\n",
       "  <tbody>\n",
       "    <tr>\n",
       "      <th>股票简称</th>\n",
       "      <td>口子窖</td>\n",
       "      <td>贵州茅台</td>\n",
       "      <td>五粮液</td>\n",
       "      <td>洋河股份</td>\n",
       "      <td>山西汾酒</td>\n",
       "      <td>泸州老窖</td>\n",
       "      <td>古井贡酒</td>\n",
       "      <td>今世缘</td>\n",
       "      <td>水井坊</td>\n",
       "      <td>酒鬼酒</td>\n",
       "    </tr>\n",
       "    <tr>\n",
       "      <th>ROE得分</th>\n",
       "      <td>2.96</td>\n",
       "      <td>2.95</td>\n",
       "      <td>2.95</td>\n",
       "      <td>2.93</td>\n",
       "      <td>2.9</td>\n",
       "      <td>2.9</td>\n",
       "      <td>1.97</td>\n",
       "      <td>1.93</td>\n",
       "      <td>1.76</td>\n",
       "      <td>0.89</td>\n",
       "    </tr>\n",
       "    <tr>\n",
       "      <th>最近十年中位数</th>\n",
       "      <td>20.60%</td>\n",
       "      <td>28.02%</td>\n",
       "      <td>21.05%</td>\n",
       "      <td>22.66%</td>\n",
       "      <td>23.54%</td>\n",
       "      <td>22.05%</td>\n",
       "      <td>16.71%</td>\n",
       "      <td>18.89%</td>\n",
       "      <td>19.52%</td>\n",
       "      <td>9.50%</td>\n",
       "    </tr>\n",
       "    <tr>\n",
       "      <th>最近十年波动程度</th>\n",
       "      <td>0.04</td>\n",
       "      <td>0.05</td>\n",
       "      <td>0.05</td>\n",
       "      <td>0.07</td>\n",
       "      <td>0.1</td>\n",
       "      <td>0.1</td>\n",
       "      <td>0.03</td>\n",
       "      <td>0.07</td>\n",
       "      <td>0.24</td>\n",
       "      <td>0.11</td>\n",
       "    </tr>\n",
       "    <tr>\n",
       "      <th>ROE</th>\n",
       "      <td>21.10%</td>\n",
       "      <td>27.95%</td>\n",
       "      <td>20.55%</td>\n",
       "      <td>22.74%</td>\n",
       "      <td>24.89%</td>\n",
       "      <td>23.73%</td>\n",
       "      <td>16.99%</td>\n",
       "      <td>20.06%</td>\n",
       "      <td>21.17%</td>\n",
       "      <td>12.02%</td>\n",
       "    </tr>\n",
       "  </tbody>\n",
       "</table>\n",
       "</div>"
      ],
      "text/plain": [
       "          603589  600519  000858  002304  600809  000568  000596  603369  \\\n",
       "股票简称         口子窖    贵州茅台     五粮液    洋河股份    山西汾酒    泸州老窖    古井贡酒     今世缘   \n",
       "ROE得分       2.96    2.95    2.95    2.93     2.9     2.9    1.97    1.93   \n",
       "最近十年中位数   20.60%  28.02%  21.05%  22.66%  23.54%  22.05%  16.71%  18.89%   \n",
       "最近十年波动程度    0.04    0.05    0.05    0.07     0.1     0.1    0.03    0.07   \n",
       "ROE       21.10%  27.95%  20.55%  22.74%  24.89%  23.73%  16.99%  20.06%   \n",
       "\n",
       "          600779  000799  \n",
       "股票简称         水井坊     酒鬼酒  \n",
       "ROE得分       1.76    0.89  \n",
       "最近十年中位数   19.52%   9.50%  \n",
       "最近十年波动程度    0.24    0.11  \n",
       "ROE       21.17%  12.02%  "
      ]
     },
     "execution_count": 8,
     "metadata": {},
     "output_type": "execute_result"
    }
   ],
   "source": [
    "stock_codes = ['600519','600809','000858','002304','000568','603369','000799','000596','600779','603589']\n",
    "voted = []\n",
    "for code in stock_codes:\n",
    "    roe = RoeAnalyzer(code)\n",
    "    _s = roe.voting()\n",
    "    voted.append(_s)\n",
    "    \n",
    "r_df = pd.concat(voted, axis=1)\n",
    "r_df.sort_values([V_ROE_SCORE], axis=1, ascending=False)"
   ]
  }
 ],
 "metadata": {
  "kernelspec": {
   "display_name": "Python 3 (ipykernel)",
   "language": "python",
   "name": "python3"
  },
  "language_info": {
   "codemirror_mode": {
    "name": "ipython",
    "version": 3
   },
   "file_extension": ".py",
   "mimetype": "text/x-python",
   "name": "python",
   "nbconvert_exporter": "python",
   "pygments_lexer": "ipython3",
   "version": "3.9.13"
  }
 },
 "nbformat": 4,
 "nbformat_minor": 5
}
